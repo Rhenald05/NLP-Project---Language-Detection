{
  "nbformat": 4,
  "nbformat_minor": 0,
  "metadata": {
    "colab": {
      "provenance": [],
      "gpuType": "T4"
    },
    "kernelspec": {
      "name": "python3",
      "display_name": "Python 3"
    },
    "language_info": {
      "name": "python"
    },
    "accelerator": "GPU"
  },
  "cells": [
    {
      "cell_type": "code",
      "execution_count": null,
      "metadata": {
        "id": "TNH1xvZqQvS0"
      },
      "outputs": [],
      "source": [
        "import numpy as np\n",
        "import pandas as pd\n",
        "import matplotlib.pyplot as plt\n",
        "import seaborn as sns\n",
        "from sklearn.preprocessing import LabelEncoder\n",
        "import re\n",
        "from sklearn.feature_extraction.text import TfidfVectorizer\n",
        "from sklearn.model_selection import train_test_split\n",
        "from sklearn.naive_bayes import MultinomialNB"
      ]
    },
    {
      "cell_type": "markdown",
      "source": [
        "Load and Read the Dataset"
      ],
      "metadata": {
        "id": "FH25mKmJVL_S"
      }
    },
    {
      "cell_type": "code",
      "source": [
        "dataset = pd.read_csv(\"Language Detection.csv\")"
      ],
      "metadata": {
        "id": "XYqw9NDXQ07V"
      },
      "execution_count": null,
      "outputs": []
    },
    {
      "cell_type": "code",
      "source": [
        "dataset.head()"
      ],
      "metadata": {
        "colab": {
          "base_uri": "https://localhost:8080/",
          "height": 206
        },
        "id": "RZnS0wA0RK9B",
        "outputId": "3b0fca8d-a039-4c6e-d168-621ec8bc7dd3"
      },
      "execution_count": null,
      "outputs": [
        {
          "output_type": "execute_result",
          "data": {
            "text/plain": [
              "                                                Text Language\n",
              "0   Nature, in the broadest sense, is the natural...  English\n",
              "1  \"Nature\" can refer to the phenomena of the phy...  English\n",
              "2  The study of nature is a large, if not the onl...  English\n",
              "3  Although humans are part of nature, human acti...  English\n",
              "4  [1] The word nature is borrowed from the Old F...  English"
            ],
            "text/html": [
              "\n",
              "  <div id=\"df-23ebc60e-7d2c-4724-baa8-782a317f39ab\">\n",
              "    <div class=\"colab-df-container\">\n",
              "      <div>\n",
              "<style scoped>\n",
              "    .dataframe tbody tr th:only-of-type {\n",
              "        vertical-align: middle;\n",
              "    }\n",
              "\n",
              "    .dataframe tbody tr th {\n",
              "        vertical-align: top;\n",
              "    }\n",
              "\n",
              "    .dataframe thead th {\n",
              "        text-align: right;\n",
              "    }\n",
              "</style>\n",
              "<table border=\"1\" class=\"dataframe\">\n",
              "  <thead>\n",
              "    <tr style=\"text-align: right;\">\n",
              "      <th></th>\n",
              "      <th>Text</th>\n",
              "      <th>Language</th>\n",
              "    </tr>\n",
              "  </thead>\n",
              "  <tbody>\n",
              "    <tr>\n",
              "      <th>0</th>\n",
              "      <td>Nature, in the broadest sense, is the natural...</td>\n",
              "      <td>English</td>\n",
              "    </tr>\n",
              "    <tr>\n",
              "      <th>1</th>\n",
              "      <td>\"Nature\" can refer to the phenomena of the phy...</td>\n",
              "      <td>English</td>\n",
              "    </tr>\n",
              "    <tr>\n",
              "      <th>2</th>\n",
              "      <td>The study of nature is a large, if not the onl...</td>\n",
              "      <td>English</td>\n",
              "    </tr>\n",
              "    <tr>\n",
              "      <th>3</th>\n",
              "      <td>Although humans are part of nature, human acti...</td>\n",
              "      <td>English</td>\n",
              "    </tr>\n",
              "    <tr>\n",
              "      <th>4</th>\n",
              "      <td>[1] The word nature is borrowed from the Old F...</td>\n",
              "      <td>English</td>\n",
              "    </tr>\n",
              "  </tbody>\n",
              "</table>\n",
              "</div>\n",
              "      <button class=\"colab-df-convert\" onclick=\"convertToInteractive('df-23ebc60e-7d2c-4724-baa8-782a317f39ab')\"\n",
              "              title=\"Convert this dataframe to an interactive table.\"\n",
              "              style=\"display:none;\">\n",
              "        \n",
              "  <svg xmlns=\"http://www.w3.org/2000/svg\" height=\"24px\"viewBox=\"0 0 24 24\"\n",
              "       width=\"24px\">\n",
              "    <path d=\"M0 0h24v24H0V0z\" fill=\"none\"/>\n",
              "    <path d=\"M18.56 5.44l.94 2.06.94-2.06 2.06-.94-2.06-.94-.94-2.06-.94 2.06-2.06.94zm-11 1L8.5 8.5l.94-2.06 2.06-.94-2.06-.94L8.5 2.5l-.94 2.06-2.06.94zm10 10l.94 2.06.94-2.06 2.06-.94-2.06-.94-.94-2.06-.94 2.06-2.06.94z\"/><path d=\"M17.41 7.96l-1.37-1.37c-.4-.4-.92-.59-1.43-.59-.52 0-1.04.2-1.43.59L10.3 9.45l-7.72 7.72c-.78.78-.78 2.05 0 2.83L4 21.41c.39.39.9.59 1.41.59.51 0 1.02-.2 1.41-.59l7.78-7.78 2.81-2.81c.8-.78.8-2.07 0-2.86zM5.41 20L4 18.59l7.72-7.72 1.47 1.35L5.41 20z\"/>\n",
              "  </svg>\n",
              "      </button>\n",
              "      \n",
              "  <style>\n",
              "    .colab-df-container {\n",
              "      display:flex;\n",
              "      flex-wrap:wrap;\n",
              "      gap: 12px;\n",
              "    }\n",
              "\n",
              "    .colab-df-convert {\n",
              "      background-color: #E8F0FE;\n",
              "      border: none;\n",
              "      border-radius: 50%;\n",
              "      cursor: pointer;\n",
              "      display: none;\n",
              "      fill: #1967D2;\n",
              "      height: 32px;\n",
              "      padding: 0 0 0 0;\n",
              "      width: 32px;\n",
              "    }\n",
              "\n",
              "    .colab-df-convert:hover {\n",
              "      background-color: #E2EBFA;\n",
              "      box-shadow: 0px 1px 2px rgba(60, 64, 67, 0.3), 0px 1px 3px 1px rgba(60, 64, 67, 0.15);\n",
              "      fill: #174EA6;\n",
              "    }\n",
              "\n",
              "    [theme=dark] .colab-df-convert {\n",
              "      background-color: #3B4455;\n",
              "      fill: #D2E3FC;\n",
              "    }\n",
              "\n",
              "    [theme=dark] .colab-df-convert:hover {\n",
              "      background-color: #434B5C;\n",
              "      box-shadow: 0px 1px 3px 1px rgba(0, 0, 0, 0.15);\n",
              "      filter: drop-shadow(0px 1px 2px rgba(0, 0, 0, 0.3));\n",
              "      fill: #FFFFFF;\n",
              "    }\n",
              "  </style>\n",
              "\n",
              "      <script>\n",
              "        const buttonEl =\n",
              "          document.querySelector('#df-23ebc60e-7d2c-4724-baa8-782a317f39ab button.colab-df-convert');\n",
              "        buttonEl.style.display =\n",
              "          google.colab.kernel.accessAllowed ? 'block' : 'none';\n",
              "\n",
              "        async function convertToInteractive(key) {\n",
              "          const element = document.querySelector('#df-23ebc60e-7d2c-4724-baa8-782a317f39ab');\n",
              "          const dataTable =\n",
              "            await google.colab.kernel.invokeFunction('convertToInteractive',\n",
              "                                                     [key], {});\n",
              "          if (!dataTable) return;\n",
              "\n",
              "          const docLinkHtml = 'Like what you see? Visit the ' +\n",
              "            '<a target=\"_blank\" href=https://colab.research.google.com/notebooks/data_table.ipynb>data table notebook</a>'\n",
              "            + ' to learn more about interactive tables.';\n",
              "          element.innerHTML = '';\n",
              "          dataTable['output_type'] = 'display_data';\n",
              "          await google.colab.output.renderOutput(dataTable, element);\n",
              "          const docLink = document.createElement('div');\n",
              "          docLink.innerHTML = docLinkHtml;\n",
              "          element.appendChild(docLink);\n",
              "        }\n",
              "      </script>\n",
              "    </div>\n",
              "  </div>\n",
              "  "
            ]
          },
          "metadata": {},
          "execution_count": 4
        }
      ]
    },
    {
      "cell_type": "code",
      "source": [
        "dataset['Language'].value_counts()"
      ],
      "metadata": {
        "colab": {
          "base_uri": "https://localhost:8080/"
        },
        "id": "IkycZ5S4RNI8",
        "outputId": "820fc258-7e45-4a17-98b8-c911b4f3ff34"
      },
      "execution_count": null,
      "outputs": [
        {
          "output_type": "execute_result",
          "data": {
            "text/plain": [
              "English       1385\n",
              "French        1014\n",
              "Spanish        819\n",
              "Portugeese     739\n",
              "Italian        698\n",
              "Russian        692\n",
              "Sweedish       676\n",
              "Malayalam      594\n",
              "Dutch          546\n",
              "Arabic         536\n",
              "Turkish        474\n",
              "German         470\n",
              "Tamil          469\n",
              "Danish         428\n",
              "Kannada        369\n",
              "Greek          365\n",
              "Hindi           63\n",
              "Name: Language, dtype: int64"
            ]
          },
          "metadata": {},
          "execution_count": 5
        }
      ]
    },
    {
      "cell_type": "code",
      "source": [
        "X = dataset['Text']\n",
        "y = dataset['Language']"
      ],
      "metadata": {
        "id": "aQwGJTmbRPA1"
      },
      "execution_count": null,
      "outputs": []
    },
    {
      "cell_type": "code",
      "source": [
        "print(X)"
      ],
      "metadata": {
        "colab": {
          "base_uri": "https://localhost:8080/"
        },
        "id": "0zqd2VZ8RQng",
        "outputId": "853cd61a-7f2d-47f1-8429-ca5ddeeb0d59"
      },
      "execution_count": null,
      "outputs": [
        {
          "output_type": "stream",
          "name": "stdout",
          "text": [
            "0         Nature, in the broadest sense, is the natural...\n",
            "1        \"Nature\" can refer to the phenomena of the phy...\n",
            "2        The study of nature is a large, if not the onl...\n",
            "3        Although humans are part of nature, human acti...\n",
            "4        [1] The word nature is borrowed from the Old F...\n",
            "                               ...                        \n",
            "10332    ನಿಮ್ಮ ತಪ್ಪು ಏನು ಬಂದಿದೆಯೆಂದರೆ ಆ ದಿನದಿಂದ ನಿಮಗೆ ಒ...\n",
            "10333    ನಾರ್ಸಿಸಾ ತಾನು ಮೊದಲಿಗೆ ಹೆಣಗಾಡುತ್ತಿದ್ದ ಮಾರ್ಗಗಳನ್...\n",
            "10334    ಹೇಗೆ ' ನಾರ್ಸಿಸಿಸಮ್ ಈಗ ಮರಿಯನ್ ಅವರಿಗೆ ಸಂಭವಿಸಿದ ಎ...\n",
            "10335    ಅವಳು ಈಗ ಹೆಚ್ಚು ಚಿನ್ನದ ಬ್ರೆಡ್ ಬಯಸುವುದಿಲ್ಲ ಎಂದು ...\n",
            "10336    ಟೆರ್ರಿ ನೀವು ನಿಜವಾಗಿಯೂ ಆ ದೇವದೂತನಂತೆ ಸ್ವಲ್ಪ ಕಾಣು...\n",
            "Name: Text, Length: 10337, dtype: object\n"
          ]
        }
      ]
    },
    {
      "cell_type": "code",
      "source": [
        "print(y)"
      ],
      "metadata": {
        "colab": {
          "base_uri": "https://localhost:8080/"
        },
        "id": "PueMPoHCRSh4",
        "outputId": "f7a2b2df-704f-4c76-b16f-82ddfa64cbec"
      },
      "execution_count": null,
      "outputs": [
        {
          "output_type": "stream",
          "name": "stdout",
          "text": [
            "0        English\n",
            "1        English\n",
            "2        English\n",
            "3        English\n",
            "4        English\n",
            "          ...   \n",
            "10332    Kannada\n",
            "10333    Kannada\n",
            "10334    Kannada\n",
            "10335    Kannada\n",
            "10336    Kannada\n",
            "Name: Language, Length: 10337, dtype: object\n"
          ]
        }
      ]
    },
    {
      "cell_type": "markdown",
      "source": [
        "Preprocessing and Feature Extraction"
      ],
      "metadata": {
        "id": "v5U6tRWYVQjv"
      }
    },
    {
      "cell_type": "code",
      "source": [
        "# Label Encoding\n",
        "le = LabelEncoder()\n",
        "y = le.fit_transform(y)"
      ],
      "metadata": {
        "id": "JWZHuKBLRyzh"
      },
      "execution_count": null,
      "outputs": []
    },
    {
      "cell_type": "code",
      "source": [
        "# Text Processing using Regular Expression\n",
        "dataset_list = []\n",
        "for Text in X:\n",
        "    Text = re.sub(r'[!@#$(),\\n\"%^&*:;~0-9]', ' ', Text)\n",
        "    Text = re.sub('[\\[\\]]', ' ', Text)\n",
        "    Text = Text.lower()\n",
        "    dataset_list.append(Text)"
      ],
      "metadata": {
        "id": "JrL-yCZIR1_m"
      },
      "execution_count": null,
      "outputs": []
    },
    {
      "cell_type": "code",
      "source": [
        "# TF-IDF\n",
        "tfidf_v = TfidfVectorizer()\n",
        "X = tfidf_v.fit_transform(dataset_list)"
      ],
      "metadata": {
        "id": "mpqM924_R7gy"
      },
      "execution_count": null,
      "outputs": []
    },
    {
      "cell_type": "code",
      "source": [
        "X.shape"
      ],
      "metadata": {
        "colab": {
          "base_uri": "https://localhost:8080/"
        },
        "id": "064YSCz9R-wF",
        "outputId": "94183d56-ea8b-480c-c6a0-38ebfb88f069"
      },
      "execution_count": null,
      "outputs": [
        {
          "output_type": "execute_result",
          "data": {
            "text/plain": [
              "(10337, 39404)"
            ]
          },
          "metadata": {},
          "execution_count": 29
        }
      ]
    },
    {
      "cell_type": "markdown",
      "source": [
        "Train Text Split"
      ],
      "metadata": {
        "id": "CP2-Ch3YVW0r"
      }
    },
    {
      "cell_type": "code",
      "source": [
        "X_train, X_test, y_train, y_test = train_test_split(X, y, test_size=0.2)"
      ],
      "metadata": {
        "id": "0sCO2-fuSB_E"
      },
      "execution_count": null,
      "outputs": []
    },
    {
      "cell_type": "code",
      "source": [
        "print(X_train)"
      ],
      "metadata": {
        "colab": {
          "base_uri": "https://localhost:8080/"
        },
        "id": "lRuX8EVnSE1B",
        "outputId": "d3ec2e7a-5a29-4fd3-8c07-23d9a8b3f23b"
      },
      "execution_count": null,
      "outputs": [
        {
          "output_type": "stream",
          "name": "stdout",
          "text": [
            "  (0, 31779)\t0.4341932448578063\n",
            "  (0, 32653)\t0.4341932448578063\n",
            "  (0, 32039)\t0.39253574277704034\n",
            "  (0, 31022)\t0.3193655568809602\n",
            "  (0, 30030)\t0.2563401892503319\n",
            "  (0, 30793)\t0.30154207191143134\n",
            "  (0, 31969)\t0.37723864065695334\n",
            "  (0, 30727)\t0.260627853841543\n",
            "  (1, 16492)\t0.31239627338959924\n",
            "  (1, 17691)\t0.31239627338959924\n",
            "  (1, 13771)\t0.31239627338959924\n",
            "  (1, 14942)\t0.2764604859681477\n",
            "  (1, 27417)\t0.25663368482063764\n",
            "  (1, 2931)\t0.24874523454815958\n",
            "  (1, 14943)\t0.2764604859681477\n",
            "  (1, 16627)\t0.18509419570671992\n",
            "  (1, 10348)\t0.23396072731842496\n",
            "  (1, 25170)\t0.22977927685466226\n",
            "  (1, 879)\t0.18315044591626098\n",
            "  (1, 11576)\t0.1603206048358512\n",
            "  (1, 13319)\t0.44516616561377115\n",
            "  (1, 15350)\t0.16557224451364014\n",
            "  (2, 25183)\t0.7050532512964321\n",
            "  (2, 14081)\t0.6027111700033899\n",
            "  (2, 15350)\t0.37368323268441533\n",
            "  :\t:\n",
            "  (8268, 35735)\t0.20966320605380306\n",
            "  (8268, 36324)\t0.20966320605380306\n",
            "  (8268, 34976)\t0.19444636332691478\n",
            "  (8268, 35224)\t0.20966320605380306\n",
            "  (8268, 33520)\t0.20966320605380306\n",
            "  (8268, 36467)\t0.189547634137647\n",
            "  (8268, 36197)\t0.189547634137647\n",
            "  (8268, 36615)\t0.20966320605380306\n",
            "  (8268, 36376)\t0.20966320605380306\n",
            "  (8268, 35738)\t0.20966320605380306\n",
            "  (8268, 35357)\t0.20966320605380306\n",
            "  (8268, 35089)\t0.20966320605380306\n",
            "  (8268, 35261)\t0.20966320605380306\n",
            "  (8268, 34424)\t0.19444636332691478\n",
            "  (8268, 34991)\t0.18554508095231362\n",
            "  (8268, 36170)\t0.189547634137647\n",
            "  (8268, 34472)\t0.17433079141075866\n",
            "  (8268, 35407)\t0.18554508095231362\n",
            "  (8268, 33970)\t0.20076192367920195\n",
            "  (8268, 35169)\t0.13989455277164867\n",
            "  (8268, 35631)\t0.15252567347622306\n",
            "  (8268, 35770)\t0.1703282382254253\n",
            "  (8268, 36154)\t0.17433079141075866\n",
            "  (8268, 35630)\t0.2816577504062964\n",
            "  (8268, 35559)\t0.10923337032307105\n"
          ]
        }
      ]
    },
    {
      "cell_type": "code",
      "source": [
        "print(y_train)"
      ],
      "metadata": {
        "colab": {
          "base_uri": "https://localhost:8080/"
        },
        "id": "nM0OKp7DSdy2",
        "outputId": "07526bd5-a0bf-401f-843e-1df013bcb981"
      },
      "execution_count": null,
      "outputs": [
        {
          "output_type": "stream",
          "name": "stdout",
          "text": [
            "[12  2  2 ... 12 11  0]\n"
          ]
        }
      ]
    },
    {
      "cell_type": "code",
      "source": [
        "print(X_test)"
      ],
      "metadata": {
        "colab": {
          "base_uri": "https://localhost:8080/"
        },
        "id": "WhYYeUF2S7Y1",
        "outputId": "5ecac42e-d594-4c88-c06a-137d9a0c398b"
      },
      "execution_count": null,
      "outputs": [
        {
          "output_type": "stream",
          "name": "stdout",
          "text": [
            "  (0, 12413)\t0.28994938674082216\n",
            "  (0, 7070)\t0.2621309733395998\n",
            "  (0, 23072)\t0.26890556937374166\n",
            "  (0, 15661)\t0.5242619466791996\n",
            "  (0, 1518)\t0.26890556937374166\n",
            "  (0, 996)\t0.4821743119450385\n",
            "  (0, 11688)\t0.20577411727249997\n",
            "  (0, 4638)\t0.3063356339577471\n",
            "  (0, 4016)\t0.21450809060781378\n",
            "  (0, 25226)\t0.1142602762157799\n",
            "  (1, 37826)\t0.6232848892972968\n",
            "  (1, 37701)\t0.44505958952486846\n",
            "  (1, 37948)\t0.4057412313195888\n",
            "  (1, 37499)\t0.3930044098349375\n",
            "  (1, 37664)\t0.3071799075512078\n",
            "  (2, 11840)\t0.332988788540019\n",
            "  (2, 5559)\t0.332988788540019\n",
            "  (2, 16994)\t0.332988788540019\n",
            "  (2, 372)\t0.332988788540019\n",
            "  (2, 17043)\t0.3010410755901772\n",
            "  (2, 25715)\t0.25449446174365065\n",
            "  (2, 12358)\t0.24783306307472094\n",
            "  (2, 4439)\t0.2627364755100816\n",
            "  (2, 16002)\t0.22683740500392613\n",
            "  (2, 25046)\t0.2627364755100816\n",
            "  :\t:\n",
            "  (2067, 36100)\t0.20125830766001762\n",
            "  (2067, 34013)\t0.1927138564879009\n",
            "  (2067, 34051)\t0.18194912109525596\n",
            "  (2067, 35080)\t0.18665147190288295\n",
            "  (2067, 33590)\t0.17204463614574822\n",
            "  (2067, 35108)\t0.18194912109525596\n",
            "  (2067, 34640)\t0.1927138564879009\n",
            "  (2067, 34907)\t0.18194912109525596\n",
            "  (2067, 34397)\t0.17204463614574822\n",
            "  (2067, 35496)\t0.18194912109525596\n",
            "  (2067, 36647)\t0.15273544958098656\n",
            "  (2067, 36289)\t0.1635001849736315\n",
            "  (2067, 35001)\t0.1561602450316175\n",
            "  (2067, 33602)\t0.15879783416600454\n",
            "  (2067, 34863)\t0.16734228533812126\n",
            "  (2067, 35693)\t0.12488181184410815\n",
            "  (2067, 35762)\t0.29441318493590574\n",
            "  (2067, 34580)\t0.18665147190288295\n",
            "  (2067, 33564)\t0.17204463614574822\n",
            "  (2067, 35896)\t0.1237868533795417\n",
            "  (2067, 34054)\t0.14720659246795287\n",
            "  (2067, 33664)\t0.12545139272011316\n",
            "  (2067, 35630)\t0.13518338113066988\n",
            "  (2067, 35559)\t0.10485446476278618\n",
            "  (2067, 36146)\t0.21216910055882698\n"
          ]
        }
      ]
    },
    {
      "cell_type": "code",
      "source": [
        "print(y_test)"
      ],
      "metadata": {
        "colab": {
          "base_uri": "https://localhost:8080/"
        },
        "id": "zuvF2mdYTTZJ",
        "outputId": "4271ca34-3db3-4b67-d9f4-5cb0720e653d"
      },
      "execution_count": null,
      "outputs": [
        {
          "output_type": "stream",
          "name": "stdout",
          "text": [
            "[ 8 15  3 ...  3  8  0]\n"
          ]
        }
      ]
    },
    {
      "cell_type": "markdown",
      "source": [
        "Naive Bayes and Prediction"
      ],
      "metadata": {
        "id": "b8ZmnIz0Ve55"
      }
    },
    {
      "cell_type": "code",
      "source": [
        "# Naive bayes\n",
        "nb = MultinomialNB()\n",
        "nb.fit(X_train, y_train)"
      ],
      "metadata": {
        "colab": {
          "base_uri": "https://localhost:8080/",
          "height": 74
        },
        "id": "5FTTuAc9TWTP",
        "outputId": "98886988-37c5-4145-be7e-25e84f27e7db"
      },
      "execution_count": null,
      "outputs": [
        {
          "output_type": "execute_result",
          "data": {
            "text/plain": [
              "MultinomialNB()"
            ],
            "text/html": [
              "<style>#sk-container-id-1 {color: black;background-color: white;}#sk-container-id-1 pre{padding: 0;}#sk-container-id-1 div.sk-toggleable {background-color: white;}#sk-container-id-1 label.sk-toggleable__label {cursor: pointer;display: block;width: 100%;margin-bottom: 0;padding: 0.3em;box-sizing: border-box;text-align: center;}#sk-container-id-1 label.sk-toggleable__label-arrow:before {content: \"▸\";float: left;margin-right: 0.25em;color: #696969;}#sk-container-id-1 label.sk-toggleable__label-arrow:hover:before {color: black;}#sk-container-id-1 div.sk-estimator:hover label.sk-toggleable__label-arrow:before {color: black;}#sk-container-id-1 div.sk-toggleable__content {max-height: 0;max-width: 0;overflow: hidden;text-align: left;background-color: #f0f8ff;}#sk-container-id-1 div.sk-toggleable__content pre {margin: 0.2em;color: black;border-radius: 0.25em;background-color: #f0f8ff;}#sk-container-id-1 input.sk-toggleable__control:checked~div.sk-toggleable__content {max-height: 200px;max-width: 100%;overflow: auto;}#sk-container-id-1 input.sk-toggleable__control:checked~label.sk-toggleable__label-arrow:before {content: \"▾\";}#sk-container-id-1 div.sk-estimator input.sk-toggleable__control:checked~label.sk-toggleable__label {background-color: #d4ebff;}#sk-container-id-1 div.sk-label input.sk-toggleable__control:checked~label.sk-toggleable__label {background-color: #d4ebff;}#sk-container-id-1 input.sk-hidden--visually {border: 0;clip: rect(1px 1px 1px 1px);clip: rect(1px, 1px, 1px, 1px);height: 1px;margin: -1px;overflow: hidden;padding: 0;position: absolute;width: 1px;}#sk-container-id-1 div.sk-estimator {font-family: monospace;background-color: #f0f8ff;border: 1px dotted black;border-radius: 0.25em;box-sizing: border-box;margin-bottom: 0.5em;}#sk-container-id-1 div.sk-estimator:hover {background-color: #d4ebff;}#sk-container-id-1 div.sk-parallel-item::after {content: \"\";width: 100%;border-bottom: 1px solid gray;flex-grow: 1;}#sk-container-id-1 div.sk-label:hover label.sk-toggleable__label {background-color: #d4ebff;}#sk-container-id-1 div.sk-serial::before {content: \"\";position: absolute;border-left: 1px solid gray;box-sizing: border-box;top: 0;bottom: 0;left: 50%;z-index: 0;}#sk-container-id-1 div.sk-serial {display: flex;flex-direction: column;align-items: center;background-color: white;padding-right: 0.2em;padding-left: 0.2em;position: relative;}#sk-container-id-1 div.sk-item {position: relative;z-index: 1;}#sk-container-id-1 div.sk-parallel {display: flex;align-items: stretch;justify-content: center;background-color: white;position: relative;}#sk-container-id-1 div.sk-item::before, #sk-container-id-1 div.sk-parallel-item::before {content: \"\";position: absolute;border-left: 1px solid gray;box-sizing: border-box;top: 0;bottom: 0;left: 50%;z-index: -1;}#sk-container-id-1 div.sk-parallel-item {display: flex;flex-direction: column;z-index: 1;position: relative;background-color: white;}#sk-container-id-1 div.sk-parallel-item:first-child::after {align-self: flex-end;width: 50%;}#sk-container-id-1 div.sk-parallel-item:last-child::after {align-self: flex-start;width: 50%;}#sk-container-id-1 div.sk-parallel-item:only-child::after {width: 0;}#sk-container-id-1 div.sk-dashed-wrapped {border: 1px dashed gray;margin: 0 0.4em 0.5em 0.4em;box-sizing: border-box;padding-bottom: 0.4em;background-color: white;}#sk-container-id-1 div.sk-label label {font-family: monospace;font-weight: bold;display: inline-block;line-height: 1.2em;}#sk-container-id-1 div.sk-label-container {text-align: center;}#sk-container-id-1 div.sk-container {/* jupyter's `normalize.less` sets `[hidden] { display: none; }` but bootstrap.min.css set `[hidden] { display: none !important; }` so we also need the `!important` here to be able to override the default hidden behavior on the sphinx rendered scikit-learn.org. See: https://github.com/scikit-learn/scikit-learn/issues/21755 */display: inline-block !important;position: relative;}#sk-container-id-1 div.sk-text-repr-fallback {display: none;}</style><div id=\"sk-container-id-1\" class=\"sk-top-container\"><div class=\"sk-text-repr-fallback\"><pre>MultinomialNB()</pre><b>In a Jupyter environment, please rerun this cell to show the HTML representation or trust the notebook. <br />On GitHub, the HTML representation is unable to render, please try loading this page with nbviewer.org.</b></div><div class=\"sk-container\" hidden><div class=\"sk-item\"><div class=\"sk-estimator sk-toggleable\"><input class=\"sk-toggleable__control sk-hidden--visually\" id=\"sk-estimator-id-1\" type=\"checkbox\" checked><label for=\"sk-estimator-id-1\" class=\"sk-toggleable__label sk-toggleable__label-arrow\">MultinomialNB</label><div class=\"sk-toggleable__content\"><pre>MultinomialNB()</pre></div></div></div></div></div>"
            ]
          },
          "metadata": {},
          "execution_count": 35
        }
      ]
    },
    {
      "cell_type": "code",
      "source": [
        "# Prediction\n",
        "y_pred = nb.predict(X_test)"
      ],
      "metadata": {
        "id": "zMu5th9MTaU9"
      },
      "execution_count": null,
      "outputs": []
    },
    {
      "cell_type": "markdown",
      "source": [
        "Evaluation Metrics"
      ],
      "metadata": {
        "id": "gHrD1e6RViw9"
      }
    },
    {
      "cell_type": "code",
      "source": [
        "# Calculate evaluation metrics\n",
        "from sklearn.metrics import accuracy_score, precision_score, recall_score, f1_score, confusion_matrix, classification_report"
      ],
      "metadata": {
        "id": "-0U2dVD5TeHn"
      },
      "execution_count": null,
      "outputs": []
    },
    {
      "cell_type": "code",
      "source": [
        "accuracy = accuracy_score(y_test, y_pred)\n",
        "precision = precision_score(y_test, y_pred, average='macro')\n",
        "recall = recall_score(y_test, y_pred, average='macro')\n",
        "f1 = f1_score(y_test, y_pred, average='macro')\n",
        "cm = confusion_matrix(y_test, y_pred)\n",
        "cr = classification_report(y_test, y_pred)"
      ],
      "metadata": {
        "id": "FOckZxejThHh"
      },
      "execution_count": null,
      "outputs": []
    },
    {
      "cell_type": "code",
      "source": [
        "print('Accuracy : ', accuracy)\n",
        "print('Precision :', precision)\n",
        "print('Recall : ', recall)\n",
        "print('F1 score : ', f1)"
      ],
      "metadata": {
        "colab": {
          "base_uri": "https://localhost:8080/"
        },
        "id": "rUgTtfc0Tj7P",
        "outputId": "55730542-78d8-44b1-c04b-f3c4ebf3c545"
      },
      "execution_count": null,
      "outputs": [
        {
          "output_type": "stream",
          "name": "stdout",
          "text": [
            "Accuracy :  0.9564796905222437\n",
            "Precision : 0.982483029537764\n",
            "Recall :  0.9367979741893876\n",
            "F1 score :  0.9566161715544489\n"
          ]
        }
      ]
    },
    {
      "cell_type": "code",
      "source": [
        "# Confusion Matrix Visualization\n",
        "plt.figure(figsize=(10,8))\n",
        "sns.heatmap(cm,annot = True)\n",
        "plt.show()"
      ],
      "metadata": {
        "colab": {
          "base_uri": "https://localhost:8080/",
          "height": 676
        },
        "id": "Ajcg6u35Tmpy",
        "outputId": "2f3f48b7-bc4a-437c-8325-39e67ef13de5"
      },
      "execution_count": null,
      "outputs": [
        {
          "output_type": "display_data",
          "data": {
            "text/plain": [
              "<Figure size 1000x800 with 2 Axes>"
            ],
            "image/png": "[encoded data removed]"
          },
          "metadata": {}
        }
      ]
    },
    {
      "cell_type": "code",
      "source": [
        "print('Classification report : ', cr)"
      ],
      "metadata": {
        "colab": {
          "base_uri": "https://localhost:8080/"
        },
        "id": "R00ooyCbTrb0",
        "outputId": "a788b5eb-4e99-4d5d-d5a1-5a728e980073"
      },
      "execution_count": null,
      "outputs": [
        {
          "output_type": "stream",
          "name": "stdout",
          "text": [
            "Classification report :                precision    recall  f1-score   support\n",
            "\n",
            "           0       1.00      0.93      0.96       108\n",
            "           1       1.00      0.92      0.96       100\n",
            "           2       1.00      0.97      0.99       102\n",
            "           3       0.79      1.00      0.88       278\n",
            "           4       0.96      0.99      0.98       185\n",
            "           5       1.00      0.92      0.96       103\n",
            "           6       1.00      0.92      0.96        72\n",
            "           7       1.00      0.75      0.86        12\n",
            "           8       1.00      0.98      0.99       147\n",
            "           9       1.00      0.96      0.98        68\n",
            "          10       1.00      0.97      0.99       120\n",
            "          11       1.00      0.97      0.98       144\n",
            "          12       1.00      0.91      0.95       152\n",
            "          13       0.98      0.98      0.98       149\n",
            "          14       0.97      0.99      0.98       150\n",
            "          15       1.00      0.97      0.98        89\n",
            "          16       1.00      0.81      0.89        89\n",
            "\n",
            "    accuracy                           0.96      2068\n",
            "   macro avg       0.98      0.94      0.96      2068\n",
            "weighted avg       0.96      0.96      0.96      2068\n",
            "\n"
          ]
        }
      ]
    },
    {
      "cell_type": "markdown",
      "source": [
        "Testing"
      ],
      "metadata": {
        "id": "zQUUvJVyVmN0"
      }
    },
    {
      "cell_type": "code",
      "source": [
        "# Define the text strings\n",
        "input_text = [\"Bonjour\", \"My cat\", \"Jag bor i Sverige\", \"Привет\", \"¿Hablas español?\", \"Ciao bella\", \"Mein Name ist Andy\", \"Bir bira isterim\", \"ഹലോ\"]\n",
        "\n",
        "for text in input_text:\n",
        "    # Vectorize the text string\n",
        "    data = tfidf_v.transform([text])\n",
        "\n",
        "    # Make the prediction\n",
        "    prediction = nb.predict(data)\n",
        "\n",
        "    # Define the language\n",
        "    language_mapping = {\n",
        "    0: \"Arabic\",\n",
        "    1: \"Danish\",\n",
        "    2: \"Dutch\",\n",
        "    3: \"English\",\n",
        "    4: \"French\",\n",
        "    5: \"German\",\n",
        "    6: \"Greek\",\n",
        "    7: \"Hindi\",\n",
        "    8: \"Italian\",\n",
        "    9: \"Kannada\",\n",
        "    10: \"Malayalam\",\n",
        "    11: \"Portuguese\",\n",
        "    12: \"Russian\",\n",
        "    13: \"Spanish\",\n",
        "    14: \"Swedish\",\n",
        "    15: \"Tamil\",\n",
        "    16: \"Turkish\",\n",
        "    }\n",
        "\n",
        "    # Get the predicted language label\n",
        "    predicted_language = language_mapping[prediction[0]]\n",
        "\n",
        "    # Result\n",
        "    print(\"The detected language for '\", text, \"' is :\", predicted_language)"
      ],
      "metadata": {
        "colab": {
          "base_uri": "https://localhost:8080/"
        },
        "id": "Y60LgxK7T5qx",
        "outputId": "733b5625-784e-497d-fe5a-46539bdf323b"
      },
      "execution_count": null,
      "outputs": [
        {
          "output_type": "stream",
          "name": "stdout",
          "text": [
            "The detected language for ' Bonjour ' is : French\n",
            "The detected language for ' My cat ' is : English\n",
            "The detected language for ' Jag bor i Sverige ' is : Swedish\n",
            "The detected language for ' Привет ' is : Russian\n",
            "The detected language for ' ¿Hablas español? ' is : Spanish\n",
            "The detected language for ' Ciao bella ' is : Italian\n",
            "The detected language for ' Mein Name ist Andy ' is : German\n",
            "The detected language for ' Bir bira isterim ' is : Turkish\n",
            "The detected language for ' ഹലോ ' is : Malayalam\n"
          ]
        }
      ]
    }
  ]
}